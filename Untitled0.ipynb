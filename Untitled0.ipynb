{
  "nbformat": 4,
  "nbformat_minor": 0,
  "metadata": {
    "colab": {
      "provenance": [],
      "authorship_tag": "ABX9TyOuNO4Edt40rPtm1MQC0hiv",
      "include_colab_link": true
    },
    "kernelspec": {
      "name": "python3",
      "display_name": "Python 3"
    },
    "language_info": {
      "name": "python"
    }
  },
  "cells": [
    {
      "cell_type": "markdown",
      "metadata": {
        "id": "view-in-github",
        "colab_type": "text"
      },
      "source": [
        "<a href=\"https://colab.research.google.com/github/LeelavathiPavithra/Analysing_Housing_Prices_in_metropolit_Areas_of_India_NM2023TMID29008/blob/main/Untitled0.ipynb\" target=\"_parent\"><img src=\"https://colab.research.google.com/assets/colab-badge.svg\" alt=\"Open In Colab\"/></a>"
      ]
    },
    {
      "cell_type": "code",
      "execution_count": 1,
      "metadata": {
        "colab": {
          "base_uri": "https://localhost:8080/"
        },
        "id": "VdDeCV1jr50e",
        "outputId": "7e8db2ad-baed-4170-d1f9-17decf0acde4"
      },
      "outputs": [
        {
          "output_type": "stream",
          "name": "stdout",
          "text": [
            "Hello\n"
          ]
        }
      ],
      "source": [
        "print(\"Hello\")"
      ]
    },
    {
      "cell_type": "code",
      "source": [
        "a=4\n",
        "b=6\n",
        "print(a)\n",
        "print(b)\n",
        "print(a+b)"
      ],
      "metadata": {
        "colab": {
          "base_uri": "https://localhost:8080/"
        },
        "id": "kV6BSiG9sntt",
        "outputId": "9fa2885c-9c46-4d08-e28c-b2c38b7b6b06"
      },
      "execution_count": 3,
      "outputs": [
        {
          "output_type": "stream",
          "name": "stdout",
          "text": [
            "4\n",
            "6\n",
            "10\n"
          ]
        }
      ]
    },
    {
      "cell_type": "code",
      "source": [
        "a=4\n",
        "b=6\n",
        "c=True\n",
        "d=\"Good Afteroon\"\n",
        "print(a)\n",
        "print(b)\n",
        "print(a+b)\n",
        "print(c)\n",
        "print(d)\n"
      ],
      "metadata": {
        "colab": {
          "base_uri": "https://localhost:8080/"
        },
        "id": "waC7DbnStKkd",
        "outputId": "5c48fcf8-0ac1-4095-c461-ba84f7873cd8"
      },
      "execution_count": 7,
      "outputs": [
        {
          "output_type": "stream",
          "name": "stdout",
          "text": [
            "4\n",
            "6\n",
            "10\n",
            "True\n",
            "Good Afteroon\n"
          ]
        }
      ]
    },
    {
      "cell_type": "code",
      "source": [
        "list=[2,4,6,8,10,12,14,16,18,20]\n",
        "tuple=(\"a\",\"b\",\"c\",\"d\",\"e\")\n",
        "print(list)\n",
        "print(tuple)\n",
        "\n"
      ],
      "metadata": {
        "colab": {
          "base_uri": "https://localhost:8080/"
        },
        "id": "jp5o07hxvEkr",
        "outputId": "fd11cbbb-93bf-4dba-f79e-cd55d3443907"
      },
      "execution_count": 12,
      "outputs": [
        {
          "output_type": "stream",
          "name": "stdout",
          "text": [
            "[2, 4, 6, 8, 10, 12, 14, 16, 18, 20]\n",
            "('a', 'b', 'c', 'd', 'e')\n"
          ]
        }
      ]
    },
    {
      "cell_type": "code",
      "source": [
        "list=[1,2,3,4,5,6,7,8,9,10]\n",
        "tuple=(\"a\",\"b\",\"c\",\"d\",\"e\")\n",
        "for i in range(len(list)):\n",
        "   print(i)"
      ],
      "metadata": {
        "colab": {
          "base_uri": "https://localhost:8080/"
        },
        "id": "2yHunoAlvtyD",
        "outputId": "3ab7e88c-a637-460b-9235-f5389f3d877d"
      },
      "execution_count": 16,
      "outputs": [
        {
          "output_type": "stream",
          "name": "stdout",
          "text": [
            "0\n",
            "1\n",
            "2\n",
            "3\n",
            "4\n",
            "5\n",
            "6\n",
            "7\n",
            "8\n",
            "9\n"
          ]
        }
      ]
    },
    {
      "cell_type": "code",
      "source": [
        "import pandas as Leela\n",
        "a=[2,4,6,8,10]\n",
        "a=Leela.Series(a)\n",
        "print(a)"
      ],
      "metadata": {
        "colab": {
          "base_uri": "https://localhost:8080/"
        },
        "id": "CmUhpiOnyqjV",
        "outputId": "2c501468-cd4f-4068-9836-1fd4ee485611"
      },
      "execution_count": 20,
      "outputs": [
        {
          "output_type": "stream",
          "name": "stdout",
          "text": [
            "0     2\n",
            "1     4\n",
            "2     6\n",
            "3     8\n",
            "4    10\n",
            "dtype: int64\n"
          ]
        }
      ]
    },
    {
      "cell_type": "code",
      "source": [
        "b={\n",
        "    \"Name\":[\"Leelavathi\",\"Pavithra\",\"Devika\",\"Uma\",\"Anitha\",\"Soniya\",\"Buji\",\"Anbarasi\"],\n",
        "    \"Age\":[19,20,20,17,32,23,1,43],\n",
        "    \"Gender\":[\"F\",\"F\",\"F\",\"F\",\"F\",\"F\",\"F\",\"F\"],\n",
        "}\n",
        "b=Leela.DataFrame(b)\n",
        "print(b)"
      ],
      "metadata": {
        "colab": {
          "base_uri": "https://localhost:8080/"
        },
        "id": "Ozfs-ekmzc_y",
        "outputId": "b4d61c64-13f9-496f-ed74-876ba2bb52f4"
      },
      "execution_count": 29,
      "outputs": [
        {
          "output_type": "stream",
          "name": "stdout",
          "text": [
            "         Name  Age Gender\n",
            "0  Leelavathi   19      F\n",
            "1    Pavithra   20      F\n",
            "2      Devika   20      F\n",
            "3         Uma   17      F\n",
            "4      Anitha   32      F\n",
            "5      Soniya   23      F\n",
            "6        Buji    1      F\n",
            "7    Anbarasi   43      F\n"
          ]
        }
      ]
    }
  ]
}